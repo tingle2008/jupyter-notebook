{
 "cells": [
  {
   "cell_type": "code",
   "execution_count": 26,
   "metadata": {
    "collapsed": false
   },
   "outputs": [
    {
     "name": "stdout",
     "output_type": "stream",
     "text": [
      "Using matplotlib backend: Qt5Agg\n",
      "Populating the interactive namespace from numpy and matplotlib\n"
     ]
    }
   ],
   "source": [
    "%pylab\n",
    "import numpy as np\n",
    "import matplotlib.pyplot as plt\n",
    "import matplotlib.dates as dates\n",
    "import pandas as pd\n",
    "from sqlalchemy import create_engine \n",
    "from __future__ import division\n",
    "\n",
    "\n",
    "engine = create_engine('postgresql://postgres@localhost:5432/postgres')\n",
    "\n",
    "instrument = 'EUR_USD'\n",
    "fromDate = '2017-05-18 00:00:00+00'\n",
    "toDate = '2017-05-20 00:00:00+00'\n",
    "period = '5min'\n",
    "fromtbl = 'oanda_%s_m1' % (instrument)\n",
    "\n",
    "win_agg_group_sql = '''\n",
    "  with intervals as (\n",
    "  select start, start + interval '%s' as end\n",
    "  from generate_series('%s', '%s', interval '%s') as start\n",
    "  )\n",
    "  select distinct\n",
    "  intervals.start as dt,\n",
    "  min(ask_l) over w as low,\n",
    "  max(ask_h) over w as high,\n",
    "  first_value(ask_o) over w as open,\n",
    "  last_value(ask_c) over w as close,\n",
    "  sum(v) over w as volume\n",
    "  from\n",
    "  intervals\n",
    "  join %s tmb on\n",
    "  tmb.dt >= intervals.start and\n",
    "  tmb.dt < intervals.end\n",
    "  window w as (partition by intervals.start)\n",
    "  order by intervals.start;\n",
    "''' % (period,fromDate,toDate,period,fromtbl)\n",
    "\n",
    "orig_df = pd.read_sql_query(win_agg_group_sql, \n",
    "                       con=engine)\n",
    "orig_df.dt = pd.to_datetime(orig_df.dt,utc=True).dt.tz_convert('Europe/Moscow')\n",
    "orig_df.set_index(['dt'])\n",
    "orig_df['dt']=orig_df.dt.dt.strftime('%m/%d/%Y %H:%M:%S')\n",
    "\n",
    "orig_df['13m']=np.round(pd.Series(orig_df['close']).rolling(window=13).mean(),decimals=5)\n",
    "orig_df['55m']=np.round(pd.Series(orig_df['close']).rolling(window=55).mean(),decimals=5)\n",
    "\n",
    "wov_df=orig_df.drop(['volume'],axis=1)\n",
    "\n",
    "#标准差\n",
    "wov_df['std_5']=wov_df.std(axis=1) * 10**5"
   ]
  },
  {
   "cell_type": "markdown",
   "metadata": {},
   "source": [
    "# 均线系统选取\n",
    "\n",
    "２根均线　１３/55 \n",
    "\n",
    "## 取出标准差的最大值最小值\n",
    "\n",
    "\n",
    "* ０－１８０的范围就是根据这个两个极值稍微两边拓展一点出来的．\n",
    "\n",
    "## 画出 STD_5 的分布得出均值\n",
    "\n",
    "\n",
    "## 连续性考察\n",
    "\n",
    "图片上可以分析出低于５０的，持续粘连．\n",
    "\n",
    "\n"
   ]
  },
  {
   "cell_type": "code",
   "execution_count": 22,
   "metadata": {
    "collapsed": false
   },
   "outputs": [
    {
     "name": "stdout",
     "output_type": "stream",
     "text": [
      "max:[170.014999],min:[4.966555]\n"
     ]
    }
   ],
   "source": [
    "std_5_max = wov_df['std_5'].max()\n",
    "std_5_min = wov_df['std_5'].min()\n",
    "\n",
    "print 'max:[%f],min:[%f]' % (std_5_max,std_5_min)"
   ]
  },
  {
   "cell_type": "code",
   "execution_count": 23,
   "metadata": {
    "collapsed": false
   },
   "outputs": [
    {
     "data": {
      "text/plain": [
       "<matplotlib.axes._subplots.AxesSubplot at 0x7f7b391cc910>"
      ]
     },
     "execution_count": 23,
     "metadata": {},
     "output_type": "execute_result"
    }
   ],
   "source": [
    "def get_stats(group):\n",
    "    return {'count': group.count()}\n",
    "\n",
    "#hist 简版直方图，没办法做范围约定\n",
    "#wov_df['std_5'].hist(bins=10,alpha = 0.6)\n",
    "bins = [0, 10, 20, 30, 40, 50, 60, 70, 80, 90, 100 ,110,120,130,140,150,160,170, 180]\n",
    "g_std = pd.cut(wov_df['std_5'], bins)\n",
    "grouped = wov_df['std_5'].groupby(g_std)\n",
    "bin_counts = grouped.apply(get_stats).unstack()\n",
    "bin_counts.index =  [ '0~10','10~20','20~30','30~40','40~50', '50~60', '60~70', '70~80', '80~90', '90~100', '100~110', '110~120', '120~130', '130~140', '140~150', '150~160', '160~170', '170~180' ]\n",
    "bin_counts.index.name = 'std range'\n",
    "bin_counts.plot(kind='bar', alpha=0.5, rot=0)"
   ]
  },
  {
   "cell_type": "code",
   "execution_count": 24,
   "metadata": {
    "collapsed": false
   },
   "outputs": [
    {
     "name": "stdout",
     "output_type": "stream",
     "text": [
      "参考均值最大范围［30.000000］\n"
     ]
    }
   ],
   "source": [
    "print '参考均值最大范围［%f］' % bin_counts['count'].mean()"
   ]
  },
  {
   "cell_type": "code",
   "execution_count": 25,
   "metadata": {
    "collapsed": false
   },
   "outputs": [
    {
     "data": {
      "text/plain": [
       "[<matplotlib.lines.Line2D at 0x7f7b4350f310>]"
      ]
     },
     "execution_count": 25,
     "metadata": {},
     "output_type": "execute_result"
    }
   ],
   "source": [
    "# Two subplots, the axes array is 1-d\n",
    "# 多图，共享时间轴\n",
    "wov_df.dt\n",
    "\n",
    "f, axarr = plt.subplots(2, sharex=True)\n",
    "axarr[0].plot(pd.to_datetime(wov_df.dt),wov_df.close )\n",
    "axarr[0].set_title('Sharing X axis')\n",
    "axarr[1].plot(pd.to_datetime(wov_df.dt), wov_df.std_5)"
   ]
  },
  {
   "cell_type": "code",
   "execution_count": null,
   "metadata": {
    "collapsed": false
   },
   "outputs": [],
   "source": []
  },
  {
   "cell_type": "code",
   "execution_count": null,
   "metadata": {
    "collapsed": false
   },
   "outputs": [],
   "source": []
  },
  {
   "cell_type": "code",
   "execution_count": null,
   "metadata": {
    "collapsed": false
   },
   "outputs": [],
   "source": []
  },
  {
   "cell_type": "code",
   "execution_count": null,
   "metadata": {
    "collapsed": false
   },
   "outputs": [],
   "source": []
  },
  {
   "cell_type": "code",
   "execution_count": null,
   "metadata": {
    "collapsed": true
   },
   "outputs": [],
   "source": []
  }
 ],
 "metadata": {
  "kernelspec": {
   "display_name": "Python 2",
   "language": "python",
   "name": "python2"
  },
  "language_info": {
   "codemirror_mode": {
    "name": "ipython",
    "version": 2
   },
   "file_extension": ".py",
   "mimetype": "text/x-python",
   "name": "python",
   "nbconvert_exporter": "python",
   "pygments_lexer": "ipython2",
   "version": "2.7.13"
  }
 },
 "nbformat": 4,
 "nbformat_minor": 2
}
