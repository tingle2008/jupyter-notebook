{
 "cells": [
  {
   "cell_type": "code",
   "execution_count": 1,
   "metadata": {
    "collapsed": false
   },
   "outputs": [
    {
     "name": "stdout",
     "output_type": "stream",
     "text": [
      "Using matplotlib backend: Qt5Agg\n",
      "Populating the interactive namespace from numpy and matplotlib\n"
     ]
    }
   ],
   "source": [
    "%pylab\n",
    "import numpy as np\n",
    "import matplotlib.pyplot as plt\n",
    "import matplotlib.dates as dates\n",
    "import pandas as pd\n",
    "from sqlalchemy import create_engine \n",
    "from __future__ import division"
   ]
  },
  {
   "cell_type": "code",
   "execution_count": 2,
   "metadata": {
    "collapsed": true
   },
   "outputs": [],
   "source": [
    "engine = create_engine('postgresql://postgres@localhost:5432/postgres')"
   ]
  },
  {
   "cell_type": "code",
   "execution_count": 3,
   "metadata": {
    "collapsed": true
   },
   "outputs": [],
   "source": [
    "instrument = 'EUR_USD'\n",
    "fromDate = '2017-05-18 00:00:00+00'\n",
    "toDate = '2017-05-20 00:00:00+00'\n",
    "period = '5min'\n",
    "fromtbl = 'oanda_%s_m1' % (instrument)\n",
    "\n",
    "win_agg_group_sql = '''\n",
    "  with intervals as (\n",
    "  select start, start + interval '%s' as end\n",
    "  from generate_series('%s', '%s', interval '%s') as start\n",
    "  )\n",
    "  select distinct\n",
    "  intervals.start as dt,\n",
    "  min(ask_l) over w as low,\n",
    "  max(ask_h) over w as high,\n",
    "  first_value(ask_o) over w as open,\n",
    "  last_value(ask_c) over w as close,\n",
    "  sum(v) over w as volume\n",
    "  from\n",
    "  intervals\n",
    "  join %s tmb on\n",
    "  tmb.dt >= intervals.start and\n",
    "  tmb.dt < intervals.end\n",
    "  window w as (partition by intervals.start)\n",
    "  order by intervals.start;\n",
    "''' % (period,fromDate,toDate,period,fromtbl)\n"
   ]
  },
  {
   "cell_type": "code",
   "execution_count": 246,
   "metadata": {
    "collapsed": false
   },
   "outputs": [],
   "source": [
    "inst_df = pd.read_sql_query(win_agg_group_sql, \n",
    "                       con=engine)\n",
    "inst_df.dt = pd.to_datetime(inst_df.dt,utc=True).dt.tz_convert('Europe/Moscow')\n",
    "inst_df.set_index(['dt'])\n",
    "inst_df['dt']=inst_df.dt.dt.strftime('%m/%d/%Y %H:%M:%S')"
   ]
  },
  {
   "cell_type": "code",
   "execution_count": 247,
   "metadata": {
    "collapsed": true
   },
   "outputs": [],
   "source": [
    "inst_df['21ew']=inst_df['close'].ewm(span=21, min_periods=21).mean()\n",
    "inst_df['13ew']=inst_df['close'].ewm(span=13, min_periods=13).mean()\n",
    "inst_df['55ew']=inst_df['close'].ewm(span=55, min_periods=55).mean()"
   ]
  },
  {
   "cell_type": "code",
   "execution_count": 195,
   "metadata": {
    "collapsed": false
   },
   "outputs": [
    {
     "data": {
      "text/plain": [
       "<matplotlib.axes._subplots.AxesSubplot at 0x7f686d4f92d0>"
      ]
     },
     "execution_count": 195,
     "metadata": {},
     "output_type": "execute_result"
    }
   ],
   "source": [
    "inst_df[['close','21ew','55ew']].plot(grid=True,figsize=(8,5))"
   ]
  },
  {
   "cell_type": "code",
   "execution_count": 250,
   "metadata": {
    "collapsed": false
   },
   "outputs": [],
   "source": [
    "ax=inst_df[['close','13ew','55ew']].plot(grid=True,figsize=(8,5))"
   ]
  },
  {
   "cell_type": "code",
   "execution_count": 185,
   "metadata": {
    "collapsed": false
   },
   "outputs": [
    {
     "data": {
      "text/plain": [
       "-1    281\n",
       " 1    205\n",
       " 0     54\n",
       "Name: Regime, dtype: int64"
      ]
     },
     "execution_count": 185,
     "metadata": {},
     "output_type": "execute_result"
    }
   ],
   "source": [
    "SD=0.00015\n",
    "inst_df['21-55ew']=inst_df['21ew'] - inst_df['55ew']\n",
    "inst_df['Regime']=np.where(inst_df['21-55ew']>SD,1,0)\n",
    "inst_df['Regime']=np.where(inst_df['21-55ew']<SD,-1,inst_df['Regime'])\n",
    "inst_df['Regime'].value_counts()"
   ]
  },
  {
   "cell_type": "code",
   "execution_count": 190,
   "metadata": {
    "collapsed": false
   },
   "outputs": [
    {
     "data": {
      "text/plain": [
       "-1    247\n",
       " 1    239\n",
       " 0     54\n",
       "Name: Regime13, dtype: int64"
      ]
     },
     "execution_count": 190,
     "metadata": {},
     "output_type": "execute_result"
    }
   ],
   "source": [
    "SD=0.00015\n",
    "inst_df['13-55ew']=inst_df['13ew'] - inst_df['55ew']\n",
    "inst_df['Regime13']=np.where(inst_df['13-55ew']>SD,1,0)\n",
    "inst_df['Regime13']=np.where(inst_df['13-55ew']<SD,-1,inst_df['Regime13'])\n",
    "inst_df['Regime13'].value_counts()"
   ]
  },
  {
   "cell_type": "code",
   "execution_count": 192,
   "metadata": {
    "collapsed": false
   },
   "outputs": [
    {
     "data": {
      "text/plain": [
       "<matplotlib.axes._subplots.AxesSubplot at 0x7f686d7cd290>"
      ]
     },
     "execution_count": 192,
     "metadata": {},
     "output_type": "execute_result"
    }
   ],
   "source": [
    "inst_df['Regime13'].plot(lw=1.5)"
   ]
  },
  {
   "cell_type": "code",
   "execution_count": null,
   "metadata": {
    "collapsed": false
   },
   "outputs": [],
   "source": [
    "(inst_df.dt.max() - inst_df.dt.min()).days "
   ]
  },
  {
   "cell_type": "code",
   "execution_count": null,
   "metadata": {
    "collapsed": false
   },
   "outputs": [],
   "source": [
    "(inst_df['Regime'].value_counts())[0]                             "
   ]
  },
  {
   "cell_type": "code",
   "execution_count": null,
   "metadata": {
    "collapsed": true
   },
   "outputs": [],
   "source": []
  }
 ],
 "metadata": {
  "kernelspec": {
   "display_name": "Python 2",
   "language": "python",
   "name": "python2"
  },
  "language_info": {
   "codemirror_mode": {
    "name": "ipython",
    "version": 2
   },
   "file_extension": ".py",
   "mimetype": "text/x-python",
   "name": "python",
   "nbconvert_exporter": "python",
   "pygments_lexer": "ipython2",
   "version": "2.7.13"
  }
 },
 "nbformat": 4,
 "nbformat_minor": 2
}
