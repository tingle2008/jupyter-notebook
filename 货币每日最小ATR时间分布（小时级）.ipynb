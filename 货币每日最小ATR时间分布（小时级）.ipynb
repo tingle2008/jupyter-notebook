{
 "cells": [
  {
   "cell_type": "code",
   "execution_count": 386,
   "metadata": {
    "collapsed": false
   },
   "outputs": [
    {
     "name": "stdout",
     "output_type": "stream",
     "text": [
      "Using matplotlib backend: Qt5Agg\n",
      "Populating the interactive namespace from numpy and matplotlib\n"
     ]
    }
   ],
   "source": [
    "%pylab\n",
    "import talib\n",
    "import numpy as np\n",
    "import matplotlib.pyplot as plt\n",
    "import matplotlib.dates as dates\n",
    "import pandas as pd\n",
    "from sqlalchemy import create_engine \n",
    "from __future__ import division\n",
    "\n",
    "\n",
    "engine = create_engine('postgresql://postgres@localhost:5432/postgres')\n",
    "\n",
    "instrument = 'EUR_USD'\n",
    "\n",
    "#fromDate = '2016-11-06 00:00:00+00'\n",
    "#toDate = '2017-03-10 18:40:00+00'\n",
    "fromDate = '2016-03-11 00:00:00+00'\n",
    "toDate = '2016-11-05 00:00:00+00'\n",
    "period = '1h'\n",
    "fromtbl = 'oanda_%s_m1' % (instrument)\n",
    "\n",
    "# for ask_*\n",
    "win_agg_group_sql_ask = '''\n",
    "  with intervals as (\n",
    "  select start, start + interval '%s' as end\n",
    "  from generate_series('%s', '%s', interval '%s') as start\n",
    "  )\n",
    "  select distinct\n",
    "  intervals.start as dt,\n",
    "  min(ask_l) over w as low,\n",
    "  max(ask_h) over w as high,\n",
    "  first_value(ask_o) over w as open,\n",
    "  last_value(ask_c) over w as close,\n",
    "  sum(v) over w as volume\n",
    "  from\n",
    "  intervals\n",
    "  join %s tmb on\n",
    "  tmb.dt >= intervals.start and\n",
    "  tmb.dt < intervals.end\n",
    "  window w as (partition by intervals.start)\n",
    "  order by intervals.start;\n",
    "''' % (period,fromDate,toDate,period,fromtbl)\n",
    "\n",
    "# for ask_bid\n",
    "win_agg_group_sql = '''\n",
    "  with intervals as (\n",
    "  select start, start + interval '%s' as end\n",
    "  from generate_series('%s', '%s', interval '%s') as start\n",
    "  )\n",
    "  select distinct\n",
    "  intervals.start as dt,\n",
    "  min(bid_l) over w as low,\n",
    "  max(bid_h) over w as high,\n",
    "  first_value(bid_o) over w as open,\n",
    "  last_value(bid_c) over w as close,\n",
    "  sum(v) over w as volume\n",
    "  from\n",
    "  intervals\n",
    "  join %s tmb on\n",
    "  tmb.dt >= intervals.start and\n",
    "  tmb.dt < intervals.end\n",
    "  window w as (partition by intervals.start)\n",
    "  order by intervals.start;\n",
    "''' % (period,fromDate,toDate,period,fromtbl)\n",
    "\n",
    "orig_df = pd.read_sql_query(win_agg_group_sql, \n",
    "                       con=engine)\n",
    "#orig_df.dt = pd.to_datetime(orig_df.dt,utc=True).dt.tz_convert('Europe/Moscow')\n",
    "orig_df.dt = pd.to_datetime(orig_df.dt,utc=True)\n",
    "orig_df.set_index(['dt'])\n",
    "orig_df['dt']=orig_df.dt.dt.strftime('%m/%d/%Y %H:%M:%S')\n",
    "\n",
    "orig_df['atr14']=talib.ATR(orig_df['high'].values,\n",
    "                            orig_df['low'].values,\n",
    "                            orig_df['close'].values,\n",
    "                            14)\n",
    "    \n",
    "wov_df=orig_df.drop(['volume'],axis=1)\n"
   ]
  },
  {
   "cell_type": "code",
   "execution_count": 387,
   "metadata": {
    "collapsed": false
   },
   "outputs": [],
   "source": [
    "\n",
    "def min_resampler(array_like):\n",
    "    a=array_like.to_frame(name='tmp')\n",
    "    #print a\n",
    "    #print 'min:%f' % a['tmp'].min()\n",
    "    dt_str = pd.to_datetime(a[(a['tmp']==a['tmp'].min())].index).strftime(\"%H\")\n",
    "    #print type(dt_str)\n",
    "    #print dt_str.astype(int)\n",
    "    #print dt_str.dtype\n",
    "    if( dt_str.data ):\n",
    "        return dt_str \n",
    "    else:\n",
    "        return -1\n",
    "\n",
    "    \n",
    "\n",
    "def max_resampler(array_like):\n",
    "    a=array_like.to_frame(name='tmp')\n",
    "    #print a\n",
    "    #print 'min:%f' % a['tmp'].min()\n",
    "    dt_str = pd.to_datetime(a[(a['tmp']==a['tmp'].max())].index).strftime(\"%H\")\n",
    "    #print type(dt_str)\n",
    "    #print dt_str.astype(int)\n",
    "    #print dt_str.dtype\n",
    "    if( dt_str.data ):\n",
    "        return dt_str \n",
    "    else:\n",
    "        return -1"
   ]
  },
  {
   "cell_type": "code",
   "execution_count": 388,
   "metadata": {
    "collapsed": false
   },
   "outputs": [],
   "source": [
    "#atr_df = wov_df.set_index(pd.DatetimeIndex(wov_df['dt'])).atr14.resample('24H').apply(min_resampler)\n",
    "atr_df = wov_df.set_index(pd.DatetimeIndex(wov_df['dt'])).atr14.resample('24H').apply(max_resampler)\n",
    "atr_df = atr_df[atr_df != -1]\n",
    "#atr_df.head(40)"
   ]
  },
  {
   "cell_type": "code",
   "execution_count": 390,
   "metadata": {
    "collapsed": false
   },
   "outputs": [
    {
     "data": {
      "text/plain": [
       "<matplotlib.axes._subplots.AxesSubplot at 0x7f73dfe3c1d0>"
      ]
     },
     "execution_count": 390,
     "metadata": {},
     "output_type": "execute_result"
    }
   ],
   "source": [
    "def get_stats(group):\n",
    "    return {'count': group.count()}\n",
    "\n",
    "bins = [0, 1, 2, 3, 4, 5, 6, 7, 8, 9, 10 ,11,12,13,14,15,16,17,18,19,20,21,22,23]\n",
    "g_atr = pd.cut(atr_df, bins)\n",
    "grouped = atr_df.groupby(g_atr)\n",
    "bin_counts = grouped.apply(get_stats).unstack()\n",
    "bin_counts.index =  [ '1','2','3','4','5', '6', '7', '8', '9', '10', '11', '12', '13', '14', '15', '16', '17', '18','19','20','21','22','23' ]\n",
    "bin_counts.index.name = 'time hour/PDT'\n",
    "bin_counts.plot(kind='bar', alpha=0.5, rot=0)"
   ]
  },
  {
   "cell_type": "code",
   "execution_count": null,
   "metadata": {
    "collapsed": true
   },
   "outputs": [],
   "source": [
    "![atr_max_pst](images/yaktocat.png)"
   ]
  },
  {
   "cell_type": "code",
   "execution_count": null,
   "metadata": {
    "collapsed": true
   },
   "outputs": [],
   "source": []
  }
 ],
 "metadata": {
  "kernelspec": {
   "display_name": "Python 2",
   "language": "python",
   "name": "python2"
  },
  "language_info": {
   "codemirror_mode": {
    "name": "ipython",
    "version": 2
   },
   "file_extension": ".py",
   "mimetype": "text/x-python",
   "name": "python",
   "nbconvert_exporter": "python",
   "pygments_lexer": "ipython2",
   "version": "2.7.13"
  }
 },
 "nbformat": 4,
 "nbformat_minor": 2
}
